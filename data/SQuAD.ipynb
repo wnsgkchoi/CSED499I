{
 "cells": [
  {
   "cell_type": "markdown",
   "metadata": {},
   "source": [
    "## 1. Download the SQuAD Dataset  "
   ]
  },
  {
   "cell_type": "code",
   "execution_count": null,
   "metadata": {},
   "outputs": [],
   "source": [
    "from datasets import load_dataset\n",
    "\n",
    "squad = load_dataset(\"squad\")"
   ]
  },
  {
   "cell_type": "markdown",
   "metadata": {},
   "source": [
    "## 2. Knowledge Base Preparation  "
   ]
  },
  {
   "cell_type": "code",
   "execution_count": null,
   "metadata": {},
   "outputs": [
    {
     "ename": "",
     "evalue": "",
     "output_type": "error",
     "traceback": [
      "\u001b[1;31mThe Kernel crashed while executing code in the the current cell or a previous cell. Please review the code in the cell(s) to identify a possible cause of the failure. Click <a href='https://aka.ms/vscodeJupyterKernelCrash'>here</a> for more info. View Jupyter <a href='command:jupyter.viewOutput'>log</a> for further details."
     ]
    }
   ],
   "source": [
    "import pandas as pd\n",
    "from transformers import DPRContextEncoder, DPRContextEncoderTokenizer\n",
    "import torch\n",
    "from tqdm import tqdm\n",
    "import numpy as np\n",
    "\n",
    "# Extract contexts and titles from the SQuAD dataset\n",
    "contexts = squad['train']['context']\n",
    "titles = squad['train']['title']\n",
    "\n",
    "# Create a DataFrame\n",
    "knowledge_base = pd.DataFrame({'title': titles, 'context': contexts})\n",
    "\n",
    "# Save the DataFrame with embeddings\n",
    "knowledge_base.to_csv('../finetune_data/t_squad-kb.csv', index=False, sep='\\t')"
   ]
  },
  {
   "cell_type": "markdown",
   "metadata": {},
   "source": [
    "## Training Data Generation  "
   ]
  },
  {
   "cell_type": "code",
   "execution_count": null,
   "metadata": {},
   "outputs": [],
   "source": [
    "import os\n",
    "\n",
    "# Create directories for the training data\n",
    "train_dir = '../finetune_data/squad-training-data'\n",
    "os.makedirs(train_dir, exist_ok=True)\n",
    "\n",
    "# Extract questions and answers\n",
    "questions = squad['train']['question']\n",
    "answers = [a['text'][0] for a in squad['train']['answers']]\n",
    "\n",
    "# Save questions and answers to files\n",
    "with open(os.path.join(train_dir, 'train.source'), 'w') as f_source:\n",
    "    for question in questions:\n",
    "        f_source.write(question + '\\n')\n",
    "\n",
    "with open(os.path.join(train_dir, 'train.target'), 'w') as f_target:\n",
    "    for answer in answers:\n",
    "        f_target.write(answer + '\\n')\n"
   ]
  },
  {
   "cell_type": "markdown",
   "metadata": {},
   "source": [
    "## Retrieval Evaluation Data Generation"
   ]
  },
  {
   "cell_type": "code",
   "execution_count": 4,
   "metadata": {},
   "outputs": [],
   "source": [
    "import os\n",
    "from datasets import load_dataset\n",
    "\n",
    "squad = load_dataset(\"squad\")\n",
    "\n",
    "# Create directories for the training data\n",
    "train_dir = '../finetune_data/squad-training-data/original'\n",
    "os.makedirs(train_dir, exist_ok=True)\n",
    "\n",
    "# Extract questions and answers\n",
    "questions = squad['train']['question']\n",
    "answers = [a['text'][0] for a in squad['train']['answers']]\n",
    "retrievals = squad['train']['title']\n",
    "\n",
    "# Save questions and answers to files\n",
    "with open(os.path.join(train_dir, 'source'), 'w') as f_source:\n",
    "    for question in questions:\n",
    "        f_source.write(question + '\\n')\n",
    "\n",
    "with open(os.path.join(train_dir, 'target'), 'w') as f_target:\n",
    "    for answer in answers:\n",
    "        f_target.write(answer + '\\n')\n",
    "\n",
    "with open(os.path.join(train_dir, 'retrieval'), 'w') as f_target:\n",
    "    for ret in retrievals:\n",
    "        f_target.write(ret + '\\n')\n",
    "        \n"
   ]
  },
  {
   "cell_type": "code",
   "execution_count": null,
   "metadata": {},
   "outputs": [],
   "source": []
  }
 ],
 "metadata": {
  "language_info": {
   "name": "python"
  }
 },
 "nbformat": 4,
 "nbformat_minor": 2
}
